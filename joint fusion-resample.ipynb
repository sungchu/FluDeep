{
 "cells": [
  {
   "cell_type": "code",
   "execution_count": 1,
   "id": "1f9a83ab",
   "metadata": {},
   "outputs": [
    {
     "name": "stderr",
     "output_type": "stream",
     "text": [
      "D:\\Users\\122156\\Anaconda3\\envs\\tensorflow\\lib\\site-packages\\numpy\\_distributor_init.py:30: UserWarning: loaded more than 1 DLL from .libs:\n",
      "D:\\Users\\122156\\Anaconda3\\envs\\tensorflow\\lib\\site-packages\\numpy\\.libs\\libopenblas.PYQHXLVVQ7VESDPUVUADXEVJOBGHJPAY.gfortran-win_amd64.dll\n",
      "D:\\Users\\122156\\Anaconda3\\envs\\tensorflow\\lib\\site-packages\\numpy\\.libs\\libopenblas.WCDJNK7YVMPZQ2ME2ZZHJJRJ3JIKNDB7.gfortran-win_amd64.dll\n",
      "  warnings.warn(\"loaded more than 1 DLL from .libs:\"\n"
     ]
    }
   ],
   "source": [
    "import pandas as pd\n",
    "import numpy as np\n",
    "import pickle\n",
    "from keras.models import load_model\n",
    "from keras.applications import Xception\n",
    "\n",
    "import seaborn as sns\n",
    "from sklearn.metrics import precision_recall_curve\n",
    "from sklearn.metrics import roc_auc_score\n",
    "from sklearn.metrics import plot_precision_recall_curve\n",
    "import matplotlib.pyplot as plt\n",
    "\n",
    "from sklearn import metrics\n",
    "from sklearn.metrics import classification_report\n",
    "from sklearn.metrics import precision_recall_curve\n",
    "from sklearn.metrics import f1_score\n",
    "from sklearn.metrics import roc_auc_score\n",
    "from sklearn.metrics import brier_score_loss\n",
    "from sklearn.metrics import precision_score"
   ]
  },
  {
   "cell_type": "code",
   "execution_count": 2,
   "id": "745f503c",
   "metadata": {},
   "outputs": [],
   "source": [
    "import keras\n",
    "from keras.models import Sequential\n",
    "from keras.layers import Dense, Dropout\n",
    "from tensorflow.keras import Model\n",
    "\n",
    "# structure data\n",
    "model1 = Sequential()\n",
    "model1.add(Dense(16, activation=\"relu\", input_shape=(19,)))\n",
    "model1.add(Dense(4, activation=\"relu\"))\n",
    "model1.add(Dense(1, activation=\"sigmoid\"))\n",
    "model1.load_weights('joint_fusion_structure.hdf5')\n",
    "\n",
    "# image\n",
    "base = Xception(include_top=True, weights='imagenet',)\n",
    "x = Dense(512, kernel_regularizer=keras.regularizers.l1_l2(l1=1e-5, l2=1e-4), activation='linear')(base.output)\n",
    "x = Dropout(0.5)(x)\n",
    "x = Dense(32, kernel_regularizer=keras.regularizers.l1_l2(l1=1e-5, l2=1e-4), activation='linear')(x)\n",
    "x = Dense(1, activation='linear')(x)\n",
    "model2 = Model(inputs=base.inputs, outputs=x)\n",
    "model2.load_weights('../CXR/xception_mse0.9885_val_mse1.4219.hdf5')"
   ]
  },
  {
   "cell_type": "code",
   "execution_count": 3,
   "id": "d8c729e2",
   "metadata": {},
   "outputs": [],
   "source": [
    "# model for structure data\n",
    "minput = model1.get_layer('dense')\n",
    "moutput = model1.get_layer('dense_1')\n",
    "model_structure = Model(inputs=minput.input, outputs=moutput.output)\n",
    "# model_structure.summary()\n",
    "\n",
    "# model for CXR image\n",
    "x = model2.layers[-2].output\n",
    "outputs = Dense(32, activation=\"softmax\", name=\"final_predictions\")(x)\n",
    "model_image = Model(inputs = model2.input, outputs = outputs)\n",
    "# model_image.summary()"
   ]
  },
  {
   "cell_type": "code",
   "execution_count": 4,
   "id": "5ee2b96d",
   "metadata": {},
   "outputs": [
    {
     "name": "stdout",
     "output_type": "stream",
     "text": [
      "Model: \"model_3\"\n",
      "__________________________________________________________________________________________________\n",
      "Layer (type)                    Output Shape         Param #     Connected to                     \n",
      "==================================================================================================\n",
      "input_2 (InputLayer)            [(None, 19)]         0                                            \n",
      "__________________________________________________________________________________________________\n",
      "input_3 (InputLayer)            [(None, 299, 299, 3) 0                                            \n",
      "__________________________________________________________________________________________________\n",
      "model_1 (Functional)            (None, 4)            388         input_2[0][0]                    \n",
      "__________________________________________________________________________________________________\n",
      "model_2 (Functional)            (None, 32)           23440464    input_3[0][0]                    \n",
      "__________________________________________________________________________________________________\n",
      "concatenate (Concatenate)       (None, 36)           0           model_1[0][0]                    \n",
      "                                                                 model_2[0][0]                    \n",
      "__________________________________________________________________________________________________\n",
      "dense_6 (Dense)                 (None, 1)            37          concatenate[0][0]                \n",
      "==================================================================================================\n",
      "Total params: 23,440,889\n",
      "Trainable params: 23,386,361\n",
      "Non-trainable params: 54,528\n",
      "__________________________________________________________________________________________________\n",
      "None\n"
     ]
    }
   ],
   "source": [
    "# concat model_structure and model_image\n",
    "import tensorflow as tf\n",
    "\n",
    "# model_structure\n",
    "input_1 = tf.keras.layers.Input(shape=(19,))\n",
    "dense_1 = model_structure(input_1)\n",
    "\n",
    "# model_image\n",
    "input_2 = tf.keras.layers.Input(shape=(299, 299, 3))\n",
    "dense_2 = model_image(input_2)\n",
    "\n",
    "# concatenate\n",
    "concat = tf.keras.layers.Concatenate()([dense_1, dense_2])\n",
    "\n",
    "# output layer\n",
    "output = tf.keras.layers.Dense(units=1, activation='sigmoid')(concat)\n",
    "\n",
    "# full model\n",
    "full_model = tf.keras.Model(inputs=[input_1, input_2], outputs=[output])\n",
    "\n",
    "print(full_model.summary())"
   ]
  },
  {
   "cell_type": "code",
   "execution_count": 5,
   "id": "57055c28",
   "metadata": {},
   "outputs": [],
   "source": [
    "train_ID_score = pd.read_excel(\"../CXR/train_test_split.xlsx\", sheet_name = 'train')\n",
    "test_ID_score = pd.read_excel(\"../CXR/train_test_split.xlsx\", sheet_name = 'test')\n",
    "\n",
    "train_ID_list = [int(i.split('_')[0]) for i in list(train_ID_score.ID)]\n",
    "test_ID_list = [int(i.split('_')[0]) for i in list(test_ID_score.ID)]"
   ]
  },
  {
   "cell_type": "code",
   "execution_count": 6,
   "id": "e759138c",
   "metadata": {},
   "outputs": [],
   "source": [
    "### NTUH structure dataset\n",
    "dataset = pd.read_csv('../concat_influ8_severity_score.csv')\n",
    "dataset = dataset[['ID', 'Gender', 'Age', 'BMI', 'Diastolic_blood_pressure', 'Heart_rate', \n",
    "                   'Respiratory_rate', 'Creatinine', 'CRP', 'Hemoglobin', 'Bicarbonate', \n",
    "                   'PCO2', 'pH', 'Platelet', 'PO2',  'Blood_urea_nitrogen', \n",
    "                   'Lactic_acid', 'INR', 'Glucose', 'Hematocrit', 'Survival_30']]"
   ]
  },
  {
   "cell_type": "code",
   "execution_count": 7,
   "id": "c8f8b1f0",
   "metadata": {},
   "outputs": [],
   "source": [
    "import cv2\n",
    "import os\n",
    "### NTUH image dataset\n",
    "DIR = '../CXR/influ_xray/original_data'\n",
    "training_data1 = []\n",
    "training_data2 = []\n",
    "testing_data1 = []\n",
    "testing_data2 = []\n",
    "training_label = []\n",
    "testing_label = []\n",
    "\n",
    "# train\n",
    "for img in train_ID_list:\n",
    "    if (os.path.exists(os.path.join(DIR,'{}_1.jpeg'.format(img)))) & (img in list(dataset.ID)):\n",
    "        image = cv2.imread(os.path.join(DIR,'{}_1.jpeg'.format(img)),cv2.IMREAD_GRAYSCALE)\n",
    "        image = cv2.cvtColor(image, cv2.COLOR_GRAY2BGR)\n",
    "        image = cv2.resize(image, (299, 299))\n",
    "        training_data1.append(np.array(dataset[dataset['ID'] == int(img)].iloc[0])[1:-1])\n",
    "        training_data2.append(image/255.0)\n",
    "        training_label.append(np.array(dataset[dataset['ID'] == int(img)].iloc[0])[-1])\n",
    "\n",
    "# test \n",
    "for img in test_ID_list:\n",
    "    if (os.path.exists(os.path.join(DIR,'{}_1.jpeg'.format(img)))) & (img in list(dataset.ID)):\n",
    "        image = cv2.imread(os.path.join(DIR,'{}_1.jpeg'.format(img)),cv2.IMREAD_GRAYSCALE)\n",
    "        image = cv2.cvtColor(image, cv2.COLOR_GRAY2BGR)\n",
    "        image = cv2.resize(image, (299, 299))\n",
    "        testing_data1.append(np.array(dataset[dataset['ID'] == int(img)].iloc[0])[1:-1])\n",
    "        testing_data2.append(image/255.0)\n",
    "        testing_label.append(list(dataset[dataset['ID'] == int(img)].iloc[0])[-1])"
   ]
  },
  {
   "cell_type": "code",
   "execution_count": 8,
   "id": "89723e1b",
   "metadata": {},
   "outputs": [],
   "source": [
    "train = pd.DataFrame({'training_data1': training_data1, 'training_data2': training_data2, 'training_label': training_label})\n",
    "count_class_0, count_class_1 = train.training_label.value_counts()\n",
    "df_class_0 = train[train['training_label'] == 0]\n",
    "df_class_1 = train[train['training_label'] == 1]\n",
    "df_class_1_over = df_class_1.sample(count_class_0, replace=True)\n",
    "df_test_over = pd.concat([df_class_0, df_class_1_over], axis=0)\n",
    "\n",
    "training_data1 = np.array(df_test_over['training_data1'].to_list())\n",
    "training_data2 = np.array(df_test_over['training_data2'].to_list())\n",
    "training_label = np.array(df_test_over['training_label'].to_list())"
   ]
  },
  {
   "cell_type": "code",
   "execution_count": 9,
   "id": "3a2c3a90",
   "metadata": {},
   "outputs": [
    {
     "name": "stdout",
     "output_type": "stream",
     "text": [
      "training image(structure) (1322, 19) training image(img) (1322, 299, 299, 3) training label (1322,) testing image(structure) (309, 19) testing image(img) (309, 299, 299, 3) testing label (309,)\n"
     ]
    }
   ],
   "source": [
    "print('training image(structure)', np.array(training_data1).shape, 'training image(img)', np.array(training_data2).shape, 'training label', np.array(training_label).shape, \n",
    "      'testing image(structure)', np.array(testing_data1).shape, 'testing image(img)', np.array(testing_data2).shape, 'testing label', np.array(testing_label).shape)"
   ]
  },
  {
   "cell_type": "code",
   "execution_count": 10,
   "id": "67b0522c",
   "metadata": {},
   "outputs": [],
   "source": [
    "# # Compile the model\n",
    "# full_model.compile(optimizer=\"adam\", loss=\"binary_crossentropy\", metrics=[\"accuracy\"])\n",
    "\n",
    "# # Train the model\n",
    "# input1 = np.array(training_data1)\n",
    "# input2 = np.array(training_data2)\n",
    "# full_model.fit([input1, input2], np.array(training_label), batch_size=12, epochs=20, validation_split=0.2, callbacks = [keras.callbacks.EarlyStopping(monitor='accuracy', patience=3)])"
   ]
  },
  {
   "cell_type": "code",
   "execution_count": 11,
   "id": "1081a218",
   "metadata": {},
   "outputs": [],
   "source": [
    "from sklearn.metrics import confusion_matrix\n",
    "def evaluation(y_true, y_pred):\n",
    "    cm = confusion_matrix(y_true, y_pred)\n",
    "    TN, FP, FN, TP = cm.ravel()\n",
    "    sensitivity = TP / (TP+FN+1e8)\n",
    "    specificity = TN / (TN+FP+1e8)\n",
    "    print(sensitivity)\n",
    "    print(specificity)"
   ]
  },
  {
   "cell_type": "code",
   "execution_count": 12,
   "id": "21ab02b8",
   "metadata": {},
   "outputs": [],
   "source": [
    "# full_model.save('joint_fusion_acc0.6841_accval0.9208.hdf5')\n",
    "full_model.load_weights('joint_fusion_acc0.6841_accval0.9208.hdf5')"
   ]
  },
  {
   "cell_type": "code",
   "execution_count": 13,
   "id": "7df4b530",
   "metadata": {},
   "outputs": [
    {
     "name": "stdout",
     "output_type": "stream",
     "text": [
      "AUC: 0.555\n",
      "Acc: 0.359\n",
      "sensitivity: 0.667\n",
      "specificity: 0.337\n",
      "precision: 0.068\n",
      "recall: 0.667\n",
      "F1: 0.124\n",
      "PPV:: 0.068\n",
      "NPV:: 0.933\n",
      "brier score: 0.278\n",
      "PR score: 0.068\n",
      "The area under the recall precision curve: 0.445\n",
      "              precision    recall  f1-score   support\n",
      "\n",
      "           0       0.93      0.34      0.49       288\n",
      "           1       0.07      0.67      0.12        21\n",
      "\n",
      "    accuracy                           0.36       309\n",
      "   macro avg       0.50      0.50      0.31       309\n",
      "weighted avg       0.87      0.36      0.47       309\n",
      "\n"
     ]
    },
    {
     "data": {
      "image/png": "[encoded data removed]",
      "text/plain": [
       "<Figure size 432x288 with 2 Axes>"
      ]
     },
     "metadata": {},
     "output_type": "display_data"
    },
    {
     "data": {
      "image/png": "[encoded data removed]",
      "text/plain": [
       "<Figure size 432x288 with 1 Axes>"
      ]
     },
     "metadata": {},
     "output_type": "display_data"
    }
   ],
   "source": [
    "### NTUH dataset\n",
    "y_test = np.array(testing_label)\n",
    "y_prob = full_model.predict([np.array(testing_data1), np.array(testing_data2)])\n",
    "y_pred = np.where(y_prob > 0.5957, 1,0).flatten()\n",
    "\n",
    "cm = metrics.confusion_matrix(y_test, y_pred)\n",
    "tn, fp, fn, tp = cm.ravel()\n",
    "sensitivity = tp / (tp+fn+1e-8)\n",
    "specificity = tn / (tn+fp+1e-8)\n",
    "precision = tp/(tp+fp+1e-8)\n",
    "recall = tp/(tp+fn+1e-8)\n",
    "f1 = (2*precision*recall)/(precision+recall)\n",
    "auc = metrics.roc_auc_score(y_test, y_prob)\n",
    "acc = metrics.accuracy_score(y_test, y_pred)\n",
    "ppv = tp / (tp+fp)\n",
    "npv = tn / (fn+tn)\n",
    "\n",
    "print('AUC: {:.3f}'.format(auc))\n",
    "print('Acc: {:.3f}'.format(acc))\n",
    "print('sensitivity: {:.3f}'.format(sensitivity))\n",
    "print('specificity: {:.3f}'.format(specificity))\n",
    "print('precision: {:.3f}'.format(precision))\n",
    "print('recall: {:.3f}'.format(recall))\n",
    "print('F1: {:.3f}'.format(f1))\n",
    "print('PPV:: {:.3f}'.format(ppv))\n",
    "print('NPV:: {:.3f}'.format(npv))\n",
    "print('brier score: {:.3f}'.format(brier_score_loss(y_test, y_prob)))\n",
    "print('PR score: {:.3f}'.format(precision_score(y_test, y_pred)))\n",
    "\n",
    "fpr, tpr, thresholds = metrics.roc_curve(y_test, y_prob)\n",
    "optimal_idx = np.argmax(tpr - fpr)\n",
    "optimal_threshold = thresholds[optimal_idx]\n",
    "AUC_PR = metrics.auc(tpr, fpr)\n",
    "print('The area under the recall precision curve: {:.3f}'.format(AUC_PR))\n",
    "\n",
    "print(classification_report(y_test, y_pred, labels=[0,1]))\n",
    "\n",
    "### Confusion Matrics\n",
    "sns.set(font_scale = 1.4) # for label size\n",
    "sns.heatmap(cm, annot=True, annot_kws={\"size\": 16},fmt='g') # font size\n",
    "plt.show()\n",
    "\n",
    "# ### Recall Precision curves\n",
    "# disp = plot_precision_recall_curve(full_model, [np.array(testing_data1), np.array(testing_data2)], y_test)\n",
    "# disp.ax_.set_title('2-class Precision-Recall curve')\n",
    "# disp.ax_.legend(loc = 'upper right')\n",
    "# plt.show()\n",
    "\n",
    "### ROC\n",
    "plt.title('Receiver Operating Characteristic')\n",
    "plt.plot(fpr, tpr, 'b', label = 'AUC = %0.3f' % roc_auc_score(y_test, y_prob))\n",
    "plt.legend(loc = 'lower right')\n",
    "plt.plot([0, 1], [0, 1],'r--')\n",
    "plt.xlim([0, 1])\n",
    "plt.ylim([0, 1])\n",
    "plt.ylabel('True Positive Rate')\n",
    "plt.xlabel('False Positive Rate')\n",
    "plt.show()"
   ]
  },
  {
   "cell_type": "code",
   "execution_count": 14,
   "id": "1941016b",
   "metadata": {},
   "outputs": [
    {
     "name": "stderr",
     "output_type": "stream",
     "text": [
      "D:\\Users\\122156\\AppData\\Local\\Temp/ipykernel_2608/282472389.py:27: FutureWarning: Dropping of nuisance columns in DataFrame reductions (with 'numeric_only=None') is deprecated; in a future version this will raise TypeError.  Select only valid columns before calling the reduction.\n",
      "  external_dataset = external_dataset.fillna(round(external_dataset.mean(), 2))\n"
     ]
    }
   ],
   "source": [
    "### Italian dataset\n",
    "external_dataset = pd.read_csv(\"../concat_italy_severity_score.csv\")\n",
    "# ##\n",
    "# external_dataset = external_dataset[external_dataset.isnull().sum(axis=1) <= 5]\n",
    "# ##\n",
    "external_dataset = external_dataset[['ID number', 'Gender', 'Age', 'BMI', 'DBP (mmHg)', 'Heart rate ', 'RR', \n",
    "                                  'Creatinine ', 'CRP', 'Hb', 'HCO3-', 'pCo2', 'Ph',\n",
    "                                  'PLT', 'pO2', 'BUN ', 'Lactate', 'INR ', 'Glycemia', \n",
    "                                  'HCT', 'severity_score','30 days mortality (0 alive, 1 death)']]\n",
    "external_dataset.columns = ['ID', 'Gender', 'Age', 'BMI', 'Diastolic_blood_pressure', 'Heart_rate', \n",
    "                   'Respiratory_rate', 'Creatinine', 'CRP', 'Hemoglobin', 'Bicarbonate', \n",
    "                   'PCO2', 'pH', 'Platelet', 'PO2',  'Blood_urea_nitrogen', \n",
    "                   'Lactic_acid', 'INR', 'Glucose', 'Hematocrit', 'severity_score', 'Survival_30']\n",
    "external_dataset['Gender'] = external_dataset['Gender'].replace('F',0).replace('M',1)\n",
    "external_dataset['BMI'] = external_dataset['BMI'].replace(\"Normal\", \"18.5\")\n",
    "external_dataset['BMI'] = external_dataset['BMI'].replace(\"Overweight\", \"21.75\")\n",
    "external_dataset['BMI'] = external_dataset['BMI'].replace(\"Obese \", \"27.5\")\n",
    "external_dataset['BMI'] = external_dataset['BMI'].replace(\"Underweight\", \"30\")\n",
    "external_dataset['Gender'] = pd.to_numeric(external_dataset['Gender'], errors='coerce')\n",
    "external_dataset['BMI'] = pd.to_numeric(external_dataset['BMI'], errors='coerce')\n",
    "\n",
    "external_dataset = external_dataset[['ID', 'Gender', 'Age', 'BMI', 'Diastolic_blood_pressure', 'Heart_rate', \n",
    "                                     'Respiratory_rate', 'Creatinine', 'CRP', 'Hemoglobin', 'Bicarbonate', \n",
    "                                     'PCO2', 'pH', 'Platelet', 'PO2',  'Blood_urea_nitrogen', \n",
    "                                     'Lactic_acid', 'INR', 'Glucose', 'Hematocrit', 'Survival_30']]\n",
    "\n",
    "external_dataset = external_dataset.fillna(round(external_dataset.mean(), 2))"
   ]
  },
  {
   "cell_type": "code",
   "execution_count": 15,
   "id": "912fec87",
   "metadata": {},
   "outputs": [],
   "source": [
    "import cv2\n",
    "import os\n",
    "### Italian image dataset\n",
    "DIR = '../CXR_italy'\n",
    "external_data1 = []\n",
    "external_data2 = []\n",
    "external_label = []\n",
    "\n",
    "# external\n",
    "for img in os.listdir(DIR):\n",
    "    if img[:-7].lower() in list(external_dataset.ID):\n",
    "        image = cv2.imread(os.path.join(DIR,'{}'.format(img)),cv2.IMREAD_GRAYSCALE)\n",
    "        image = cv2.cvtColor(image, cv2.COLOR_GRAY2BGR)\n",
    "        image = cv2.resize(image, (299, 299))\n",
    "        external_data1.append(np.array(external_dataset[external_dataset['ID'] == img[:-7]].iloc[0])[1:-1])\n",
    "        external_data2.append(image/255.0)\n",
    "        external_label.append(np.array(external_dataset[external_dataset['ID'] == img[:-7]].iloc[0])[-1])"
   ]
  },
  {
   "cell_type": "code",
   "execution_count": 16,
   "id": "545cda1e",
   "metadata": {},
   "outputs": [],
   "source": [
    "y_test_ex = np.array(external_label)\n",
    "y_prob_ex = full_model.predict([np.array(external_data1).astype(np.float32), np.array(external_data2).astype(np.float32)])\n",
    "y_pred_ex = np.where(y_prob_ex > 0.5957, 1,0).flatten()"
   ]
  },
  {
   "cell_type": "code",
   "execution_count": 21,
   "id": "a97f0546",
   "metadata": {},
   "outputs": [
    {
     "name": "stdout",
     "output_type": "stream",
     "text": [
      "AUC: 0.639\n",
      "Acc: 0.401\n",
      "sensitivity: 0.882\n",
      "specificity: 0.364\n",
      "precision: 0.097\n",
      "recall: 0.882\n",
      "F1: 0.174\n",
      "PPV:: 0.097\n",
      "NPV:: 0.976\n",
      "brier score: 0.279\n",
      "PR score: 0.097\n",
      "The area under the recall precision curve: 0.361\n",
      "              precision    recall  f1-score   support\n",
      "\n",
      "           0       0.98      0.36      0.53       220\n",
      "           1       0.10      0.88      0.17        17\n",
      "\n",
      "    accuracy                           0.40       237\n",
      "   macro avg       0.54      0.62      0.35       237\n",
      "weighted avg       0.91      0.40      0.50       237\n",
      "\n"
     ]
    },
    {
     "data": {
      "image/png": "[encoded data removed]",
      "text/plain": [
       "<Figure size 432x288 with 2 Axes>"
      ]
     },
     "metadata": {},
     "output_type": "display_data"
    },
    {
     "data": {
      "image/png": "[encoded data removed]",
      "text/plain": [
       "<Figure size 432x288 with 1 Axes>"
      ]
     },
     "metadata": {},
     "output_type": "display_data"
    }
   ],
   "source": [
    "cm = metrics.confusion_matrix(y_test_ex, y_pred_ex)\n",
    "tn, fp, fn, tp = cm.ravel()\n",
    "sensitivity = tp / (tp+fn+1e-8)\n",
    "specificity = tn / (tn+fp+1e-8)\n",
    "precision = tp/(tp+fp+1e-8)\n",
    "recall = tp/(tp+fn+1e-8)\n",
    "f1 = (2*precision*recall)/(precision+recall)\n",
    "auc = metrics.roc_auc_score(y_test_ex, y_prob_ex)\n",
    "acc = metrics.accuracy_score(y_test_ex, y_pred_ex)\n",
    "ppv = tp / (tp+fp)\n",
    "npv = tn / (fn+tn)\n",
    "\n",
    "print('AUC: {:.3f}'.format(auc))\n",
    "print('Acc: {:.3f}'.format(acc))\n",
    "print('sensitivity: {:.3f}'.format(sensitivity))\n",
    "print('specificity: {:.3f}'.format(specificity))\n",
    "print('precision: {:.3f}'.format(precision))\n",
    "print('recall: {:.3f}'.format(recall))\n",
    "print('F1: {:.3f}'.format(f1))\n",
    "print('PPV:: {:.3f}'.format(ppv))\n",
    "print('NPV:: {:.3f}'.format(npv))\n",
    "print('brier score: {:.3f}'.format(brier_score_loss(y_test_ex, y_prob_ex)))\n",
    "print('PR score: {:.3f}'.format(precision_score(y_test_ex, y_pred_ex)))\n",
    "\n",
    "fpr, tpr, thresholds = metrics.roc_curve(y_test_ex, y_prob_ex)\n",
    "optimal_idx = np.argmax(tpr - fpr)\n",
    "optimal_threshold = thresholds[optimal_idx]\n",
    "AUC_PR = metrics.auc(tpr, fpr)\n",
    "print('The area under the recall precision curve: {:.3f}'.format(AUC_PR))\n",
    "\n",
    "print(classification_report(y_test_ex, y_pred_ex, labels=[0,1]))\n",
    "\n",
    "### Confusion Matrics\n",
    "sns.set(font_scale = 1.4) # for label size\n",
    "sns.heatmap(cm, annot=True, annot_kws={\"size\": 16},fmt='g') # font size\n",
    "plt.show()\n",
    "\n",
    "# ### Recall Precision curves\n",
    "# disp = plot_precision_recall_curve(full_model, [np.array(testing_data1), np.array(testing_data2)], y_test)\n",
    "# disp.ax_.set_title('2-class Precision-Recall curve')\n",
    "# disp.ax_.legend(loc = 'upper right')\n",
    "# plt.show()\n",
    "\n",
    "### ROC\n",
    "plt.title('Receiver Operating Characteristic')\n",
    "plt.plot(fpr, tpr, 'b', label = 'AUC = %0.3f' % roc_auc_score(y_test_ex, y_prob_ex))\n",
    "plt.legend(loc = 'lower right')\n",
    "plt.plot([0, 1], [0, 1],'r--')\n",
    "plt.xlim([0, 1])\n",
    "plt.ylim([0, 1])\n",
    "plt.ylabel('True Positive Rate')\n",
    "plt.xlabel('False Positive Rate')\n",
    "plt.show()"
   ]
  },
  {
   "cell_type": "code",
   "execution_count": null,
   "id": "17b224e0",
   "metadata": {},
   "outputs": [],
   "source": []
  },
  {
   "cell_type": "code",
   "execution_count": null,
   "id": "1431b5b5",
   "metadata": {},
   "outputs": [],
   "source": []
  }
 ],
 "metadata": {
  "kernelspec": {
   "display_name": "Python 3 (ipykernel)",
   "language": "python",
   "name": "python3"
  },
  "language_info": {
   "codemirror_mode": {
    "name": "ipython",
    "version": 3
   },
   "file_extension": ".py",
   "mimetype": "text/x-python",
   "name": "python",
   "nbconvert_exporter": "python",
   "pygments_lexer": "ipython3",
   "version": "3.8.10"
  },
  "toc": {
   "base_numbering": 1,
   "nav_menu": {},
   "number_sections": true,
   "sideBar": true,
   "skip_h1_title": false,
   "title_cell": "Table of Contents",
   "title_sidebar": "Contents",
   "toc_cell": false,
   "toc_position": {},
   "toc_section_display": true,
   "toc_window_display": false
  },
  "varInspector": {
   "cols": {
    "lenName": 16,
    "lenType": 16,
    "lenVar": 40
   },
   "kernels_config": {
    "python": {
     "delete_cmd_postfix": "",
     "delete_cmd_prefix": "del ",
     "library": "var_list.py",
     "varRefreshCmd": "print(var_dic_list())"
    },
    "r": {
     "delete_cmd_postfix": ") ",
     "delete_cmd_prefix": "rm(",
     "library": "var_list.r",
     "varRefreshCmd": "cat(var_dic_list()) "
    }
   },
   "types_to_exclude": [
    "module",
    "function",
    "builtin_function_or_method",
    "instance",
    "_Feature"
   ],
   "window_display": false
  }
 },
 "nbformat": 4,
 "nbformat_minor": 5
}
